{
 "cells": [
  {
   "cell_type": "code",
   "execution_count": 1,
   "metadata": {},
   "outputs": [
    {
     "name": "stdout",
     "output_type": "stream",
     "text": [
      "pygame 2.0.1 (SDL 2.0.14, Python 3.8.3)\n",
      "Hello from the pygame community. https://www.pygame.org/contribute.html\n"
     ]
    }
   ],
   "source": [
    "# Import Important modules\n",
    "import pygame\n",
    "import os\n",
    "import tkinter as tk\n",
    "from tkinter.filedialog import askdirectory"
   ]
  },
  {
   "cell_type": "markdown",
   "metadata": {},
   "source": [
    "### Creating interface for music player"
   ]
  },
  {
   "cell_type": "code",
   "execution_count": 2,
   "metadata": {},
   "outputs": [],
   "source": [
    "musicplayer=tk.Tk()"
   ]
  },
  {
   "cell_type": "code",
   "execution_count": 3,
   "metadata": {},
   "outputs": [
    {
     "data": {
      "text/plain": [
       "''"
      ]
     },
     "execution_count": 3,
     "metadata": {},
     "output_type": "execute_result"
    }
   ],
   "source": [
    "# Setting dimensions of tkinter window\n",
    "musicplayer.geometry('450x350')\n",
    "# Adding title for interface\n",
    "musicplayer.title(\"Music Player\")"
   ]
  },
  {
   "cell_type": "code",
   "execution_count": 4,
   "metadata": {},
   "outputs": [],
   "source": [
    "# Askdirectory() prompt the user to choose\n",
    "directory=askdirectory()\n",
    "os.chdir(directory)\n",
    "songlist=os.listdir()\n",
    "playlist=tk.Listbox(musicplayer, font=\"cambria 14 bold\", bg=\"cyan2\", selectmode=tk.SINGLE)\n",
    "for i in songlist:\n",
    "    pos=0\n",
    "    playlist.insert(pos,i)\n",
    "    pos=pos+1\n",
    "pygame.init()\n",
    "pygame.mixer.init()\n",
    "\n",
    "\n",
    "def play():\n",
    "    pygame.mixer.music.load(playlist.get(tk.ACTIVE))\n",
    "    var.set(playlist.get(tk.ACTIVE))\n",
    "    pygame.mixer.music.play()\n",
    "def ExitMusicPlayer():\n",
    "    pygame.mixer.music.stop()\n",
    "def pause():\n",
    "    pygame.mixer.music.pause()\n",
    "def resume():\n",
    "    pygame.mixer.music.unpause()\n",
    "    \n",
    "    \n",
    "# Creating buttons\n",
    "button1=tk.Button(musicplayer, width=5, height=3, font=\"Cambria 20 bold\", text=\"play music\", command=play, bg=\"lime green\", fg=\"black\")\n",
    "button2=tk.Button(musicplayer, width=5, height=3, font=\"Cambria 20 bold\", text=\"Stop Music\", command=ExitMusicPlayer, bg=\"red\", fg=\"black\")\n",
    "button3=tk.Button(musicplayer, width=5, height=3, font=\"Cambria 20 bold\", text=\"Pause Music\", command=pause, bg=\"yellow\", fg=\"black\")\n",
    "button4=tk.Button(musicplayer, width=5, height=3, font=\"Cambria 20 bold\", text=\"Resume Music\", command=resume, bg=\"skyblue\", fg=\"black\")\n",
    "\n",
    "button1.pack(fill=\"x\")\n",
    "button2.pack(fill=\"x\")\n",
    "button3.pack(fill=\"x\")\n",
    "button4.pack(fill=\"x\")\n",
    "playlist.pack(fill=\"both\", expand=\"yes\")\n",
    "var=tk.StringVar()\n",
    "songtitle=tk.Label(musicplayer, font=\"Helvetica 12 bold\", textvariable=var)\n",
    "songtitle.pack()\n",
    "musicplayer.mainloop()   \n",
    "\n",
    "\n"
   ]
  },
  {
   "cell_type": "code",
   "execution_count": null,
   "metadata": {},
   "outputs": [],
   "source": []
  },
  {
   "cell_type": "code",
   "execution_count": null,
   "metadata": {},
   "outputs": [],
   "source": []
  },
  {
   "cell_type": "code",
   "execution_count": null,
   "metadata": {},
   "outputs": [],
   "source": []
  }
 ],
 "metadata": {
  "kernelspec": {
   "display_name": "Python 3",
   "language": "python",
   "name": "python3"
  },
  "language_info": {
   "codemirror_mode": {
    "name": "ipython",
    "version": 3
   },
   "file_extension": ".py",
   "mimetype": "text/x-python",
   "name": "python",
   "nbconvert_exporter": "python",
   "pygments_lexer": "ipython3",
   "version": "3.8.3"
  }
 },
 "nbformat": 4,
 "nbformat_minor": 4
}
