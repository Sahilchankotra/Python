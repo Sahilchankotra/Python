{
 "cells": [
  {
   "cell_type": "code",
   "execution_count": 1,
   "metadata": {},
   "outputs": [
    {
     "name": "stdout",
     "output_type": "stream",
     "text": [
      "My name is User1 \n",
      "my age is 34\n"
     ]
    }
   ],
   "source": [
    "#Formated the string or we can say that concatenate the elements within string through Positional formating\n",
    "print(\"My name is {} \\nmy age is {}\".format(\"User1\",34))"
   ]
  },
  {
   "cell_type": "code",
   "execution_count": 4,
   "metadata": {},
   "outputs": [
    {
     "name": "stdout",
     "output_type": "stream",
     "text": [
      "I will upload my tutorial in the Github and you can access and gain knowledge. All the best\n"
     ]
    }
   ],
   "source": [
    "print(\"I will upload my {2} in the {1} and you can access and gain {0} {3}\".format(\"knowledge.\",\"Github\",\"tutorial\",\"All the best\"))"
   ]
  },
  {
   "cell_type": "code",
   "execution_count": 8,
   "metadata": {},
   "outputs": [
    {
     "name": "stdout",
     "output_type": "stream",
     "text": [
      "My Course name is Python and Course duration is 15 and I'am Develper\n"
     ]
    }
   ],
   "source": [
    "print(\"My Course name is {fname} and Course duration is {age} and I'am {work}\".format(work=\"Develper\",fname=\"Python\",age=15))"
   ]
  },
  {
   "cell_type": "code",
   "execution_count": 14,
   "metadata": {},
   "outputs": [
    {
     "name": "stdout",
     "output_type": "stream",
     "text": [
      "enter three number4 6 8\n",
      "The overall Avearge of 4 6 8 number is 6.0 \n"
     ]
    }
   ],
   "source": [
    "#assignment based on String formating\n",
    "a,b,c=input(\"enter three number\").split(\" \")\n",
    "a=int(a)\n",
    "b=int(b)\n",
    "c=int(c)\n",
    "d=(a+b+c)/3\n",
    "print(f\"The overall Avearge of {a} {b} {c} number is {d} \")"
   ]
  },
  {
   "cell_type": "code",
   "execution_count": 15,
   "metadata": {},
   "outputs": [
    {
     "name": "stdout",
     "output_type": "stream",
     "text": [
      "Enter your nameUser1\n",
      "Reverese order name is: 1resU\n"
     ]
    }
   ],
   "source": [
    "#Assignment\n",
    "name=input(\"Enter your name\")\n",
    "print(f\"Reverese order name is: {name[::-1]}\")"
   ]
  }
 ],
 "metadata": {
  "kernelspec": {
   "display_name": "Python 3",
   "language": "python",
   "name": "python3"
  },
  "language_info": {
   "codemirror_mode": {
    "name": "ipython",
    "version": 3
   },
   "file_extension": ".py",
   "mimetype": "text/x-python",
   "name": "python",
   "nbconvert_exporter": "python",
   "pygments_lexer": "ipython3",
   "version": "3.8.3"
  }
 },
 "nbformat": 4,
 "nbformat_minor": 4
}
