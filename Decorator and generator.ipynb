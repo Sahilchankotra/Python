{
 "cells": [
  {
   "cell_type": "code",
   "execution_count": 12,
   "metadata": {},
   "outputs": [
    {
     "name": "stdout",
     "output_type": "stream",
     "text": [
      "8\n"
     ]
    }
   ],
   "source": [
    "\"\"\"\n",
    "A decorator in Python is any callable Python object that is used to modify a function or a class. \n",
    "A reference to a function \"func\" or a class \"C\" is passed to a decorator and the decorator returns a modified function or class.\n",
    "\"\"\"\n",
    "\n",
    "\"\"\"\n",
    " The __call__ method enables Python programmers to write classes \n",
    " where the instances behave like functions and can be called like a function.\n",
    "\"\"\"\n",
    "class Power(object):\n",
    "    def __init__(self,a):\n",
    "        self.a=a\n",
    "    \n",
    "    def __call__(self,b):\n",
    "        a=self.a\n",
    "        print(a**b)\n",
    "\n",
    "e=Power(2)\n",
    "e(3)"
   ]
  },
  {
   "cell_type": "code",
   "execution_count": 27,
   "metadata": {},
   "outputs": [
    {
     "name": "stdout",
     "output_type": "stream",
     "text": [
      "Welcome to the second function\n"
     ]
    }
   ],
   "source": [
    "\"\"\"This is the first decorator example where one function call the another function\"\"\"\n",
    "\n",
    "def onetoanother(func):\n",
    "    return second_func\n",
    "\n",
    "@onetoanother\n",
    "def first_func():\n",
    "    print(\"Hi all I am the first user\")\n",
    "\n",
    "def second_func():\n",
    "    print(\"Welcome to the second func\n",
    "first_func()"
   ]
  },
  {
   "cell_type": "code",
   "execution_count": 39,
   "metadata": {},
   "outputs": [
    {
     "name": "stdout",
     "output_type": "stream",
     "text": [
      "This is function will change string one form to another. ex: string_one_two to StringOneTwo\n"
     ]
    }
   ],
   "source": [
    "#Assignment return a string to change first letter capital\n",
    "from functools import wraps\n",
    "def mapper(func):\n",
    "    @wraps(func)\n",
    "    def inner(coll_values):\n",
    "        \"\"\"This is the inner function\"\"\"\n",
    "        return [func(i) for i in coll_values]\n",
    "    return inner\n",
    "\n",
    "@mapper\n",
    "def camel(s):\n",
    "    \"\"\"This is function will change string one form to another. ex: string_one_two to StringOneTwo\"\"\"\n",
    "    return ''.join([word.title() for word in s.split(\"_\")])\n",
    "\n",
    "coll=['donald_trump',\n",
    "     'money_heist',\n",
    "     'welcome_newyork']\n",
    "\n",
    "print(camel.__doc__)\n",
    "\n"
   ]
  },
  {
   "cell_type": "code",
   "execution_count": 75,
   "metadata": {},
   "outputs": [
    {
     "name": "stdout",
     "output_type": "stream",
     "text": [
      "216\n",
      "This will return only random number\n"
     ]
    }
   ],
   "source": [
    "## Another example\n",
    "import random \n",
    "from functools import wraps\n",
    "\n",
    "def power_of_3(func):\n",
    "    @wraps(func)\n",
    "    def inner():\n",
    "        \"\"\"This will print the cube of even number which will return the random_Even_Digit function\"\"\"\n",
    "        return func()**3\n",
    "    return inner\n",
    "\n",
    "@power_of_3\n",
    "def random_even_digit():\n",
    "    \"\"\"This will return only random number\"\"\"\n",
    "    return random.choice([2,4,6,8])\n",
    "\n",
    "print(random_even_digit())\n",
    "print(random_even_digit.__doc__)\n"
   ]
  },
  {
   "cell_type": "code",
   "execution_count": 96,
   "metadata": {},
   "outputs": [
    {
     "data": {
      "text/plain": [
       "27"
      ]
     },
     "execution_count": 96,
     "metadata": {},
     "output_type": "execute_result"
    }
   ],
   "source": [
    "#Make the above function dynamic\n",
    "\n",
    "import random\n",
    "\n",
    "def power_of(num):\n",
    "    def decorator(func):\n",
    "        def inner():\n",
    "            return func()**num\n",
    "        return inner\n",
    "    return decorator\n",
    "\n",
    "@power_of(3)\n",
    "def random_odd_digit():\n",
    "    return random.choice([1,3,5,7,9])\n",
    "random_odd_digit()"
   ]
  },
  {
   "cell_type": "code",
   "execution_count": 120,
   "metadata": {},
   "outputs": [
    {
     "name": "stdout",
     "output_type": "stream",
     "text": [
      "50\n"
     ]
    }
   ],
   "source": [
    "## Turning a function into a callable class instance\n",
    "import random\n",
    "\n",
    "class Testing:\n",
    "    def __init__(self,func):\n",
    "        self.func=func\n",
    "    \n",
    "    def __call__(self):\n",
    "        return self.func()\n",
    "        \n",
    "@Testing\n",
    "def random_digit():\n",
    "    return random.choice([1,2,3,4,50])\n",
    "print(random_digit())\n",
    "# If you call this without creating __Call__ function it will give you error class object is not callable"
   ]
  },
  {
   "cell_type": "code",
   "execution_count": 129,
   "metadata": {},
   "outputs": [
    {
     "name": "stdout",
     "output_type": "stream",
     "text": [
      "1\n",
      "[1]\n",
      "1\n",
      "[1, 1]\n"
     ]
    }
   ],
   "source": [
    "#Here we will print rendom digit and store in memory\n",
    "\n",
    "import random\n",
    "\n",
    "class Testing:\n",
    "    def __init__(self,func):\n",
    "        self.func=func\n",
    "        self.memory=[]\n",
    "    \n",
    "    def __call__(self):\n",
    "        retval = self.func()\n",
    "        self.memory.append(retval)\n",
    "        return retval\n",
    "    \n",
    "    def memeory(self):\n",
    "        return self.memory\n",
    "        \n",
    "@Testing\n",
    "def random_digit():\n",
    "    return random.choice([1,2,3,4,50])\n",
    "\n",
    "print(random_digit())\n",
    "print(random_digit.memeory())\n",
    "print(random_digit())\n",
    "print(random_digit.memeory())"
   ]
  },
  {
   "cell_type": "code",
   "execution_count": 17,
   "metadata": {},
   "outputs": [
    {
     "name": "stdout",
     "output_type": "stream",
     "text": [
      "work started\n",
      "9\n",
      "ended\n",
      "9\n"
     ]
    }
   ],
   "source": [
    "def f1(func):\n",
    "    def wrapper(*args,**kwargs):\n",
    "        print(\"work started\")\n",
    "        val=func(*args,**kwargs)\n",
    "        print(val)\n",
    "        print(\"ended\")\n",
    "        return val\n",
    "    return wrapper\n",
    "\n",
    "@f1\n",
    "def add(x,y):\n",
    "    return x+y\n",
    "print(add(4,5))"
   ]
  },
  {
   "cell_type": "code",
   "execution_count": 18,
   "metadata": {},
   "outputs": [
    {
     "name": "stdout",
     "output_type": "stream",
     "text": [
      "Welcomes\n",
      "work start\n",
      "8\n"
     ]
    }
   ],
   "source": [
    "class sm:\n",
    "    def __init__(self):\n",
    "        print(\"Welcomes\")\n",
    "    def __call__(self,a,b):\n",
    "        print(\"work start\")\n",
    "        print(a**b)\n",
    "        \n",
    "e=sm()\n",
    "e(2,3)"
   ]
  },
  {
   "cell_type": "code",
   "execution_count": 19,
   "metadata": {},
   "outputs": [
    {
     "name": "stdout",
     "output_type": "stream",
     "text": [
      "2.0\n"
     ]
    }
   ],
   "source": [
    "def smart_div(func):\n",
    "    \n",
    "    def inner(a,b):\n",
    "        if a<b:\n",
    "            a,b=b,a\n",
    "        return func(a,b)\n",
    "    return inner\n",
    "\n",
    "@smart_div\n",
    "def div(a,b):\n",
    "    print(a/b)\n",
    "\n",
    "\n",
    "div(4,2)"
   ]
  },
  {
   "cell_type": "code",
   "execution_count": 20,
   "metadata": {},
   "outputs": [
    {
     "name": "stdout",
     "output_type": "stream",
     "text": [
      "ready to execute\n",
      "2.0\n",
      "Done\n"
     ]
    }
   ],
   "source": [
    "def smart(func):\n",
    "    def nowexec():\n",
    "        print(\"ready to execute\")\n",
    "        func(4,2)\n",
    "        print(\"Done\")\n",
    "    return nowexec\n",
    "\n",
    "@smart\n",
    "def dv(a,b):\n",
    "    print(a/b)\n",
    "\n",
    "dv()"
   ]
  },
  {
   "cell_type": "code",
   "execution_count": null,
   "metadata": {},
   "outputs": [],
   "source": []
  },
  {
   "cell_type": "code",
   "execution_count": 21,
   "metadata": {},
   "outputs": [
    {
     "name": "stdout",
     "output_type": "stream",
     "text": [
      "Instance Created\n"
     ]
    },
    {
     "data": {
      "text/plain": [
       "8"
      ]
     },
     "execution_count": 21,
     "metadata": {},
     "output_type": "execute_result"
    }
   ],
   "source": [
    "class Example: \n",
    "    def __init__(self): \n",
    "        print(\"Instance Created\") \n",
    "      \n",
    "    # Defining __call__ method \n",
    "    def __call__(self,a,b): \n",
    "        #print(\"Instance is called via special method\") \n",
    "        return a**b\n",
    "  \n",
    "# Instance created \n",
    "e = Example() \n",
    "  \n",
    "# __call__ method will be called \n",
    "e(2,3) "
   ]
  },
  {
   "cell_type": "code",
   "execution_count": null,
   "metadata": {},
   "outputs": [],
   "source": []
  },
  {
   "cell_type": "markdown",
   "metadata": {},
   "source": [
    "## Generator"
   ]
  },
  {
   "cell_type": "code",
   "execution_count": null,
   "metadata": {},
   "outputs": [],
   "source": [
    "#1.)Python generators are a simple way of creating iterators\n",
    "#2.) a generator is a function that returns an object (iterator) which we can iterate over (one value at a time).\n",
    "#3.) There are two terms involved when we discuss generators.\n",
    "# 4.) Generator function, generator object\n"
   ]
  },
  {
   "cell_type": "code",
   "execution_count": 132,
   "metadata": {},
   "outputs": [
    {
     "name": "stdout",
     "output_type": "stream",
     "text": [
      "1\n",
      "3\n"
     ]
    }
   ],
   "source": [
    "# Generator function\n",
    "def Firstgenerator():\n",
    "    yield 1\n",
    "    yield 3\n",
    "for i in Firstgenerator():\n",
    "    print(i)"
   ]
  },
  {
   "cell_type": "code",
   "execution_count": 34,
   "metadata": {},
   "outputs": [
    {
     "name": "stdout",
     "output_type": "stream",
     "text": [
      "1\n",
      "2\n"
     ]
    }
   ],
   "source": [
    "\"\"\"\n",
    "Generator-Object : Generator functions return a generator object.\n",
    "Generator objects are used either by calling the next method on the generator\n",
    "object or using the generator object in a “for in” loop.\n",
    "\"\"\"\n",
    "\n",
    "def Secondgenerator():\n",
    "    yield 1\n",
    "    yield 2\n",
    "x=Secondgenerator()\n",
    "\n",
    "print(x.__next__())\n",
    "print(x.__next__())\n",
    "#print(x.__next__())\n",
    "#print(x.next())\n"
   ]
  },
  {
   "cell_type": "code",
   "execution_count": 35,
   "metadata": {},
   "outputs": [
    {
     "data": {
      "text/plain": [
       "(1, 2, 3, 4, 5)"
      ]
     },
     "execution_count": 35,
     "metadata": {},
     "output_type": "execute_result"
    }
   ],
   "source": [
    "def exp(a):\n",
    "    for i in a:\n",
    "        yield i\n",
    "b=tuple(exp([1,2,3,4,5]))\n",
    "b"
   ]
  },
  {
   "cell_type": "code",
   "execution_count": null,
   "metadata": {},
   "outputs": [],
   "source": []
  },
  {
   "cell_type": "code",
   "execution_count": null,
   "metadata": {},
   "outputs": [],
   "source": []
  },
  {
   "cell_type": "code",
   "execution_count": null,
   "metadata": {},
   "outputs": [],
   "source": []
  },
  {
   "cell_type": "code",
   "execution_count": null,
   "metadata": {},
   "outputs": [],
   "source": []
  },
  {
   "cell_type": "code",
   "execution_count": null,
   "metadata": {},
   "outputs": [],
   "source": []
  },
  {
   "cell_type": "code",
   "execution_count": null,
   "metadata": {},
   "outputs": [],
   "source": []
  }
 ],
 "metadata": {
  "kernelspec": {
   "display_name": "Python 3",
   "language": "python",
   "name": "python3"
  }
 },
 "nbformat": 4,
 "nbformat_minor": 4
}
