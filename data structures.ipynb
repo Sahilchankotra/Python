{
 "cells": [
  {
   "cell_type": "code",
   "execution_count": 3,
   "metadata": {},
   "outputs": [
    {
     "name": "stdout",
     "output_type": "stream",
     "text": [
      "10\n",
      "U1SSEFVSFG\n",
      "u1ssefvsfg\n",
      "0\n",
      "U1Ssefvsfg\n"
     ]
    }
   ],
   "source": [
    "name=\"u1sSeFvsfg\"\n",
    "print(len(name))#This will tell you the lenght of the string\n",
    "print(name.upper())# this will change string in upper case\n",
    "print(name.lower())# this will change string in lower case\n",
    "print(name.count('o'))# Count the number of occurence\n",
    "print(name.title())#change the first word in upper\n"
   ]
  },
  {
   "cell_type": "code",
   "execution_count": 6,
   "metadata": {},
   "outputs": [
    {
     "data": {
      "text/plain": [
       "str"
      ]
     },
     "execution_count": 6,
     "metadata": {},
     "output_type": "execute_result"
    }
   ],
   "source": [
    "#to check the type of the variable we used type function\n",
    "type(name)"
   ]
  },
  {
   "cell_type": "code",
   "execution_count": 12,
   "metadata": {},
   "outputs": [
    {
     "name": "stdout",
     "output_type": "stream",
     "text": [
      "     Python course    \n",
      "Python course\n",
      "Python course    \n"
     ]
    }
   ],
   "source": [
    "# Strip method:-> This will remove the extra spaces from front and end of the string\n",
    "a=\"     Python course    \"\n",
    "print(a)\n",
    "print(a.strip())\n",
    "print(a.lstrip())# This will remove the spaces from the left side\n"
   ]
  },
  {
   "cell_type": "code",
   "execution_count": 18,
   "metadata": {},
   "outputs": [
    {
     "name": "stdout",
     "output_type": "stream",
     "text": [
      "Pythonbeginner\n",
      "     Java beginner   \n"
     ]
    }
   ],
   "source": [
    "# we can also use replace method to remove spaces/word\n",
    "\n",
    "b=\"     Python beginner   \"\n",
    "\n",
    "print(b.replace(\" \",\"\"))\n",
    "print(b.replace(\"Python\",\"Java\"))\n"
   ]
  },
  {
   "cell_type": "code",
   "execution_count": 22,
   "metadata": {},
   "outputs": [
    {
     "data": {
      "text/plain": [
       "'&chankotra&&'"
      ]
     },
     "execution_count": 22,
     "metadata": {},
     "output_type": "execute_result"
    }
   ],
   "source": [
    "#Center method used to add what ever you want in front and end string\n",
    "name=\"chankotra\"\n",
    "name.center(12,\"&\")"
   ]
  },
  {
   "cell_type": "markdown",
   "metadata": {},
   "source": [
    "## List"
   ]
  },
  {
   "cell_type": "code",
   "execution_count": null,
   "metadata": {},
   "outputs": [],
   "source": [
    "\"\"\"\n",
    "Python is often used to process textual data. With strings, and string lists,\n",
    "we store and can handle this data in an efficient way\n",
    "\"\"\""
   ]
  },
  {
   "cell_type": "code",
   "execution_count": 26,
   "metadata": {},
   "outputs": [
    {
     "name": "stdout",
     "output_type": "stream",
     "text": [
      "3\n",
      "['one', 'two', 'THREE']\n",
      "one\n",
      "two\n",
      "THREE\n"
     ]
    }
   ],
   "source": [
    "l1 = [\"one\", \"two\", \"THREE\"]\n",
    "print(len(l1))#Len of list\n",
    "print(l1)\n",
    "for value in l1:\n",
    "    print(value)"
   ]
  },
  {
   "cell_type": "code",
   "execution_count": 33,
   "metadata": {},
   "outputs": [
    {
     "data": {
      "text/plain": [
       "['1', '2']"
      ]
     },
     "execution_count": 33,
     "metadata": {},
     "output_type": "execute_result"
    }
   ],
   "source": [
    "#Creating list in another way\n",
    "l2=[]\n",
    "l2.append('1')\n",
    "l2.append('2')\n",
    "l2"
   ]
  },
  {
   "cell_type": "code",
   "execution_count": 39,
   "metadata": {},
   "outputs": [
    {
     "data": {
      "text/plain": [
       "4"
      ]
     },
     "execution_count": 39,
     "metadata": {},
     "output_type": "execute_result"
    }
   ],
   "source": [
    "f=[3,4,5,3]\n",
    "f.pop(1)#This will remove the element to the given index and return that element"
   ]
  },
  {
   "cell_type": "markdown",
   "metadata": {},
   "source": [
    "## Tuple"
   ]
  },
  {
   "cell_type": "code",
   "execution_count": 40,
   "metadata": {},
   "outputs": [
    {
     "name": "stdout",
     "output_type": "stream",
     "text": [
      "(1, 2, 3, 4)\n",
      "<class 'tuple'>\n"
     ]
    }
   ],
   "source": [
    "t=(1,2,3,4)\n",
    "print(t)\n",
    "print(type(t))"
   ]
  },
  {
   "cell_type": "code",
   "execution_count": 42,
   "metadata": {},
   "outputs": [
    {
     "name": "stdout",
     "output_type": "stream",
     "text": [
      "2\n",
      "6\n"
     ]
    }
   ],
   "source": [
    "#Tuple is immutables and have only 2 methods count,index\n",
    "t1=(1,2,2,1,4,5,6,5,6,7,9)\n",
    "print(t1.count(2))\n",
    "print(t1.index(6))\n"
   ]
  },
  {
   "cell_type": "markdown",
   "metadata": {},
   "source": [
    "## Dictionary"
   ]
  },
  {
   "cell_type": "code",
   "execution_count": 43,
   "metadata": {},
   "outputs": [
    {
     "data": {
      "text/plain": [
       "{1: 'User1', 2: 'from', 3: 'age'}"
      ]
     },
     "execution_count": 43,
     "metadata": {},
     "output_type": "execute_result"
    }
   ],
   "source": [
    "#A dictionary is a collection of key/value pairs.\n",
    "\"\"\"\n",
    "dictionary is a collection which is unordered, changeable and does not allow duplicates.\n",
    "\n",
    "Dictionaries are written with curly brackets, and have keys and values\n",
    "\"\"\"\n",
    "\n",
    "a={1:\"User1\",2:\"from\",3:\"age\"}\n",
    "a"
   ]
  },
  {
   "cell_type": "code",
   "execution_count": 46,
   "metadata": {},
   "outputs": [
    {
     "data": {
      "text/plain": [
       "dict_keys([1, 2, 3])"
      ]
     },
     "execution_count": 46,
     "metadata": {},
     "output_type": "execute_result"
    }
   ],
   "source": [
    "a.keys()"
   ]
  },
  {
   "cell_type": "code",
   "execution_count": 48,
   "metadata": {},
   "outputs": [
    {
     "data": {
      "text/plain": [
       "dict_values(['User1', 'from', 'age'])"
      ]
     },
     "execution_count": 48,
     "metadata": {},
     "output_type": "execute_result"
    }
   ],
   "source": [
    "a.values()"
   ]
  },
  {
   "cell_type": "code",
   "execution_count": 53,
   "metadata": {},
   "outputs": [
    {
     "name": "stdout",
     "output_type": "stream",
     "text": [
      "User1\n",
      "dict_items([(1, 'User1'), (2, 'from'), (3, 'age')])\n",
      "(1, 'User1')\n",
      "(2, 'from')\n",
      "(3, 'age')\n"
     ]
    }
   ],
   "source": [
    "print(a.get(1))#To get the value\n",
    "print(a.items())\n",
    "for i in a.items():\n",
    "    print(i)"
   ]
  },
  {
   "cell_type": "markdown",
   "metadata": {},
   "source": [
    "## Set"
   ]
  },
  {
   "cell_type": "code",
   "execution_count": 75,
   "metadata": {},
   "outputs": [
    {
     "name": "stdout",
     "output_type": "stream",
     "text": [
      "1\n",
      "{2, 3, 4, 5}\n"
     ]
    }
   ],
   "source": [
    "a={1,2,3,4,5}\n",
    "print(a.pop())\n",
    "print(a)"
   ]
  },
  {
   "cell_type": "code",
   "execution_count": null,
   "metadata": {},
   "outputs": [],
   "source": []
  },
  {
   "cell_type": "code",
   "execution_count": null,
   "metadata": {},
   "outputs": [],
   "source": []
  }
 ],
 "metadata": {
  "kernelspec": {
   "display_name": "Python 3",
   "language": "python",
   "name": "python3"
  },
  "language_info": {
   "codemirror_mode": {
    "name": "ipython",
    "version": 3
   },
   "file_extension": ".py",
   "mimetype": "text/x-python",
   "name": "python",
   "nbconvert_exporter": "python",
   "pygments_lexer": "ipython3",
   "version": "3.8.3"
  }
 },
 "nbformat": 4,
 "nbformat_minor": 4
}
